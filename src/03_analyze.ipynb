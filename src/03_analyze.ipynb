{
 "cells": [
  {
   "cell_type": "markdown",
   "metadata": {},
   "source": [
    "# Seattle AirBnB Investment Analysis\n",
    "\n",
    "The goal of this analysis is to determine the optimal location and size of house\n",
    "to purchase for an AirBnB investment property.\n",
    "\n",
    "We will start by loading the AirBnB listing data that we have cleaned and augmented."
   ]
  },
  {
   "cell_type": "code",
   "execution_count": null,
   "metadata": {},
   "outputs": [],
   "source": [
    "import pandas as pd\n",
    "airbnb_data = pd.read_csv(\"../data/clean/seattle_airbnb_listings.csv\")\n",
    "airbnb_data"
   ]
  },
  {
   "cell_type": "markdown",
   "metadata": {},
   "source": [
    "First let's look at the average nightly rate by neighborhood and number of bedrooms.\n",
    "\n",
    "**Nighly Rate by Location**"
   ]
  },
  {
   "cell_type": "code",
   "execution_count": null,
   "metadata": {},
   "outputs": [],
   "source": [
    "airbnb_data.groupby(by=['neighborhood'])['nightly_rate']\\\n",
    "    .agg(['mean','count'])\\\n",
    "        .sort_values('mean', ascending=False)\\\n",
    "            .style.format({'mean' : '${:,.0f}', 'count' :'{:d}'})"
   ]
  },
  {
   "cell_type": "markdown",
   "metadata": {},
   "source": [
    "**Nightly Rate by House Size**"
   ]
  },
  {
   "cell_type": "code",
   "execution_count": null,
   "metadata": {},
   "outputs": [],
   "source": [
    "airbnb_data.groupby(by=['bedrooms'])['nightly_rate'].agg(['mean','count'])\\\n",
    "    .style.format({'mean' : '${:,.0f}', 'count' :'{:d}'})"
   ]
  },
  {
   "cell_type": "markdown",
   "metadata": {},
   "source": [
    "Now let's look at the occupancy by location and house size.\n",
    "\n",
    "**Occupancy by Location**"
   ]
  },
  {
   "cell_type": "code",
   "execution_count": null,
   "metadata": {},
   "outputs": [],
   "source": [
    "airbnb_data.groupby(by=[\"neighborhood\"])[\"days_occupied\"]\\\n",
    "    .agg(['mean','count']).sort_values('mean', ascending=False)\\\n",
    "        .style.format({'mean':'{:.1f}','count':'{:d}'})\n",
    "\n"
   ]
  },
  {
   "cell_type": "markdown",
   "metadata": {},
   "source": [
    "**Occupancy by House Size**"
   ]
  },
  {
   "cell_type": "code",
   "execution_count": null,
   "metadata": {},
   "outputs": [],
   "source": [
    "airbnb_data.groupby(by=[\"bedrooms\"])[\"days_occupied\"]\\\n",
    "    .agg(['mean','count']).sort_values('mean', ascending=False)\\\n",
    "        .style.format({'mean':'{:.1f}','count':'{:d}'})"
   ]
  },
  {
   "cell_type": "markdown",
   "metadata": {},
   "source": [
    "Next we will look at the combination of occupancy and nightly rate --> RPP.\n",
    "\n",
    "**RPP by Location**"
   ]
  },
  {
   "cell_type": "code",
   "execution_count": null,
   "metadata": {},
   "outputs": [],
   "source": [
    "airbnb_data.groupby(by=[\"neighborhood\"])[\"rpp\"]\\\n",
    "    .agg(['mean','count']).sort_values('mean', ascending=False)\\\n",
    "        .style.format({'mean':'${:.0f}','count':'{:d}'})"
   ]
  },
  {
   "cell_type": "markdown",
   "metadata": {},
   "source": [
    "**RPP by House Size**"
   ]
  },
  {
   "cell_type": "code",
   "execution_count": null,
   "metadata": {},
   "outputs": [],
   "source": [
    "airbnb_data.groupby(by=[\"neighborhood\"])[\"noi\"]\\\n",
    "    .agg(['mean','count']).sort_values('mean', ascending=False)\\\n",
    "        .style.format({'mean':'${:,.0f}','count':'{:d}'})\n",
    "\n"
   ]
  },
  {
   "cell_type": "markdown",
   "metadata": {},
   "source": [
    "Finally, let's look at the Net Operating Income by location and house size.\n",
    "\n",
    "**NOI by Location and House Size**"
   ]
  },
  {
   "cell_type": "code",
   "execution_count": null,
   "metadata": {},
   "outputs": [],
   "source": [
    "airbnb_data.groupby(by=[\"neighborhood\", \"bedrooms\"])[\"noi\"]\\\n",
    "    .agg(['mean', 'median','count'])\\\n",
    "        .style.format({'mean':'${:,.0f}', 'median':'${:,.0f}','count':'{:d}'})"
   ]
  },
  {
   "cell_type": "markdown",
   "metadata": {},
   "source": [
    "**NOI by Location for 5 Bedroom Houses**"
   ]
  },
  {
   "cell_type": "code",
   "execution_count": null,
   "metadata": {},
   "outputs": [],
   "source": [
    "airbnb_data.loc[airbnb_data['bedrooms']==5].groupby(by=[\"neighborhood\"])[\"noi\"]\\\n",
    "                .agg(['mean'])\\\n",
    "                .sort_values(by='mean')\\\n",
    "                .plot(kind='barh',\n",
    "                        title='Average NOI per Property by Neighborhood',\n",
    "                        xlabel=\"Net Operating Income\",\n",
    "                        ylabel=\"Neighborhood\",\n",
    "                        legend=False)"
   ]
  },
  {
   "cell_type": "markdown",
   "metadata": {},
   "source": [
    "**NOI by number of Bedrooms in the Ballard/Greenlake Neighborhood**"
   ]
  },
  {
   "cell_type": "code",
   "execution_count": null,
   "metadata": {},
   "outputs": [],
   "source": [
    "airbnb_data.loc[airbnb_data['neighborhood']=='Ballard/Greenlake'].groupby(by=[\"bedrooms\"])[\"noi\"]\\\n",
    "                .agg(['mean'])\\\n",
    "                .plot(kind='barh',\n",
    "                        title='Average NOI in Ballard/Greenlake by # Bedrooms',\n",
    "                        xlabel=\"Net Operating Income\",\n",
    "                        ylabel=\"# Bedrooms\",\n",
    "                        legend=False)"
   ]
  }
 ],
 "metadata": {
  "kernelspec": {
   "display_name": "Python 3.9.2 ('venv': venv)",
   "language": "python",
   "name": "python3"
  },
  "language_info": {
   "codemirror_mode": {
    "name": "ipython",
    "version": 3
   },
   "file_extension": ".py",
   "mimetype": "text/x-python",
   "name": "python",
   "nbconvert_exporter": "python",
   "pygments_lexer": "ipython3",
   "version": "3.9.2"
  },
  "orig_nbformat": 4,
  "vscode": {
   "interpreter": {
    "hash": "ceab831b94141603db3b55b3a507e8638c5610002e83b2dd407c2f5e2d63f1d6"
   }
  }
 },
 "nbformat": 4,
 "nbformat_minor": 2
}
